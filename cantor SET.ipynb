{
 "cells": [
  {
   "cell_type": "code",
   "execution_count": 8,
   "metadata": {},
   "outputs": [],
   "source": [
    "import matplotlib.pyplot as plt"
   ]
  },
  {
   "cell_type": "code",
   "execution_count": 9,
   "metadata": {},
   "outputs": [
    {
     "data": {
      "image/png": "[encoded data removed]",
      "text/plain": [
       "<Figure size 432x288 with 1 Axes>"
      ]
     },
     "metadata": {
      "needs_background": "light"
     },
     "output_type": "display_data"
    }
   ],
   "source": [
    "import numpy as np\n",
    "import matplotlib.pyplot as plt\n",
    "\n",
    "line = [0,1]\n",
    "depth = 5\n",
    "def divide(line, level=0):\n",
    "    plt.plot(line,[level,level],color='k',lw=3,solid_capstyle=\"butt\")\n",
    "    if level < depth:\n",
    "        s = np.linspace(line[0],line[1],4)\n",
    "        divide(s[:2], level+1)\n",
    "        #print('1st')\n",
    "        divide(s[2:], level+1)\n",
    "        #print('2nd')\n",
    "\n",
    "divide(line)\n",
    "#plt.gca().invert_yaxis()\n",
    "plt.show()\n",
    "\n"
   ]
  },
  {
   "cell_type": "markdown",
   "metadata": {},
   "source": [
    "### OR"
   ]
  },
  {
   "cell_type": "code",
   "execution_count": 1,
   "metadata": {},
   "outputs": [],
   "source": [
    "import matplotlib.pyplot as plt"
   ]
  },
  {
   "cell_type": "code",
   "execution_count": 4,
   "metadata": {},
   "outputs": [],
   "source": [
    "def cantor(x1,x2,y):\n",
    "    if x1<x2-0.0001:\n",
    "        x3=(2*x1+x2)/3\n",
    "        x4=(x1+2*x2)/3\n",
    "        plt.plot([x1,x3],[y,y],color='r')\n",
    "        plt.plot([x2,x4],[y,y],color='b')\n",
    "        y=y+1\n",
    "        #print('x1',x1,'x3',x3)\n",
    "        #print('x4',x4,'x2',x2)\n",
    "        cantor(x1,x3,y)\n",
    "        cantor(x4,x2,y)\n",
    "    else:\n",
    "        return 0;\n",
    "    "
   ]
  },
  {
   "cell_type": "code",
   "execution_count": 5,
   "metadata": {},
   "outputs": [
    {
     "data": {
      "image/png": "[encoded data removed]",
      "text/plain": [
       "<Figure size 432x288 with 1 Axes>"
      ]
     },
     "metadata": {
      "needs_background": "light"
     },
     "output_type": "display_data"
    }
   ],
   "source": [
    "#x1=int(input('enter x1'))\n",
    "#x2=int(input('enter x2'))\n",
    "#y=int(input('enter y'))\n",
    "cantor(0,1,1)\n",
    "plt.show()"
   ]
  },
  {
   "cell_type": "code",
   "execution_count": 7,
   "metadata": {},
   "outputs": [
    {
     "data": {
      "image/png": "[encoded data removed]",
      "text/plain": [
       "<Figure size 432x288 with 1 Axes>"
      ]
     },
     "metadata": {
      "needs_background": "light"
     },
     "output_type": "display_data"
    }
   ],
   "source": [
    "def c(x1,x2,y):\n",
    "    if x1<x2-.0001:\n",
    "        x3=(2*x1 + x2)/3\n",
    "        x4=(x1 + 2*x2)/3\n",
    "        plt.plot([x1,x3],[y,y])\n",
    "        plt.plot([x4,x2],[y,y])\n",
    "        y=y+1\n",
    "        c(x1,x3,y)\n",
    "        c(x4,x2,y)\n",
    "    else:\n",
    "        return 0\n",
    "c(0,1,0)\n",
    "plt.show()\n",
    "        \n",
    "        "
   ]
  },
  {
   "cell_type": "code",
   "execution_count": null,
   "metadata": {},
   "outputs": [],
   "source": []
  }
 ],
 "metadata": {
  "kernelspec": {
   "display_name": "Python 3",
   "language": "python",
   "name": "python3"
  },
  "language_info": {
   "codemirror_mode": {
    "name": "ipython",
    "version": 3
   },
   "file_extension": ".py",
   "mimetype": "text/x-python",
   "name": "python",
   "nbconvert_exporter": "python",
   "pygments_lexer": "ipython3",
   "version": "3.7.4"
  }
 },
 "nbformat": 4,
 "nbformat_minor": 2
}
