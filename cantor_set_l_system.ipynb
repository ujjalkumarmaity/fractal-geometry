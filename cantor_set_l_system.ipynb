{
 "cells": [
  {
   "cell_type": "code",
   "execution_count": 1,
   "metadata": {},
   "outputs": [],
   "source": [
    "import turtle as tf"
   ]
  },
  {
   "cell_type": "code",
   "execution_count": 2,
   "metadata": {},
   "outputs": [],
   "source": [
    "def shape(string,length,angel):\n",
    "    for i in string:\n",
    "        if i=='F':\n",
    "            tf.color('black')\n",
    "            tf.forward(length)\n",
    "        if i=='f':\n",
    "            tf.color('white')\n",
    "            tf.forward(length)\n",
    "        if i=='+':\n",
    "            tf.left(angel)\n",
    "        if i=='-':\n",
    "            tf.right(angel)\n",
    "    tf.exitonclick()"
   ]
  },
  {
   "cell_type": "code",
   "execution_count": 3,
   "metadata": {},
   "outputs": [],
   "source": [
    "angle=45\n",
    "length=50\n",
    "string='F+F+F-F-F+F'\n",
    "shape(string,length,angle)"
   ]
  },
  {
   "cell_type": "markdown",
   "metadata": {},
   "source": [
    "# CANTOR SET"
   ]
  },
  {
   "cell_type": "code",
   "execution_count": 12,
   "metadata": {
    "scrolled": true
   },
   "outputs": [],
   "source": [
    "angle=90\n",
    "length=2\n",
    "tf.setworldcoordinates(0,0,40,40)\n",
    "string='FfFfffFfF'\n",
    "shape(string,length,angle)"
   ]
  },
  {
   "cell_type": "markdown",
   "metadata": {},
   "source": [
    "# re"
   ]
  },
  {
   "cell_type": "code",
   "execution_count": 8,
   "metadata": {},
   "outputs": [],
   "source": [
    "import turtle as tf\n",
    "def s(st,length,angle):\n",
    "    for i in st:\n",
    "        if i=='F':\n",
    "            tf.color('black')\n",
    "            tf.forward(length)\n",
    "        if i=='f':\n",
    "            tf.color('white')\n",
    "            tf.forward(length)\n",
    "        if i=='+':\n",
    "            tf.left(angle)\n",
    "        if i=='-':\n",
    "            tf.right(angle)\n",
    "    tf.exitonclick()\n",
    "a=90\n",
    "tf.setworldcoordinates(0,0,40,40)\n",
    "string='FfFfff+FfF'\n",
    "s(string,2,a)"
   ]
  },
  {
   "cell_type": "code",
   "execution_count": null,
   "metadata": {},
   "outputs": [],
   "source": []
  }
 ],
 "metadata": {
  "kernelspec": {
   "display_name": "Python 3",
   "language": "python",
   "name": "python3"
  },
  "language_info": {
   "codemirror_mode": {
    "name": "ipython",
    "version": 3
   },
   "file_extension": ".py",
   "mimetype": "text/x-python",
   "name": "python",
   "nbconvert_exporter": "python",
   "pygments_lexer": "ipython3",
   "version": "3.7.4"
  }
 },
 "nbformat": 4,
 "nbformat_minor": 2
}
