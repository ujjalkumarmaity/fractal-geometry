{
 "cells": [
  {
   "cell_type": "code",
   "execution_count": 19,
   "metadata": {},
   "outputs": [],
   "source": [
    "import matplotlib.pyplot as plt\n",
    "import random as rd"
   ]
  },
  {
   "cell_type": "code",
   "execution_count": 56,
   "metadata": {},
   "outputs": [],
   "source": [
    "def fun(x,y,count):\n",
    "    if count>0:\n",
    "        count-=1\n",
    "        x3=(2*x[0]+x[1])/3\n",
    "        x4=(x[0]+2*x[1])/3\n",
    "        y=y+1\n",
    "        x1=rd.uniform(0,x4-x3)\n",
    "        y1=rd.uniform(0,0.5)\n",
    "        plt.plot([x[0],x3],[y,y])\n",
    "        plt.plot([x4,x[1]],[y,y])\n",
    "        plt.plot([x3,x3+x1],[y,y1+y])\n",
    "        plt.plot([x3+x1,x4],[y1+y,y])\n",
    "        fun([x[0],x3],y,count)\n",
    "        fun([x4,x[1]],y,count)\n",
    "     "
   ]
  },
  {
   "cell_type": "code",
   "execution_count": 57,
   "metadata": {},
   "outputs": [
    {
     "data": {
      "image/png": "[encoded data removed]",
      "text/plain": [
       "<Figure size 432x288 with 1 Axes>"
      ]
     },
     "metadata": {
      "needs_background": "light"
     },
     "output_type": "display_data"
    }
   ],
   "source": [
    "x=[0,1]\n",
    "y=1\n",
    "plt.plot([x[0],x[1]],[y,y])\n",
    "fun(x,y,5)\n",
    "plt.show()"
   ]
  },
  {
   "cell_type": "code",
   "execution_count": null,
   "metadata": {},
   "outputs": [],
   "source": []
  },
  {
   "cell_type": "code",
   "execution_count": null,
   "metadata": {},
   "outputs": [],
   "source": []
  }
 ],
 "metadata": {
  "kernelspec": {
   "display_name": "Python 3",
   "language": "python",
   "name": "python3"
  },
  "language_info": {
   "codemirror_mode": {
    "name": "ipython",
    "version": 3
   },
   "file_extension": ".py",
   "mimetype": "text/x-python",
   "name": "python",
   "nbconvert_exporter": "python",
   "pygments_lexer": "ipython3",
   "version": "3.7.4"
  }
 },
 "nbformat": 4,
 "nbformat_minor": 2
}
