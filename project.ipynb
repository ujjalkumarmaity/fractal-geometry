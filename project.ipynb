{
 "cells": [
  {
   "cell_type": "code",
   "execution_count": 2,
   "metadata": {},
   "outputs": [],
   "source": [
    "\n",
    "# Python code for Julia Fractal \n",
    "from PIL import Image \n",
    "   \n",
    "# driver function \n",
    "if __name__ == \"__main__\": \n",
    "    \n",
    "    # setting the width, height and zoom  \n",
    "    # of the image to be created \n",
    "    w, h, zoom = 1920,1080,1\n",
    "   \n",
    "    # creating the new image in RGB mode \n",
    "    bitmap = Image.new(\"RGB\", (w, h), \"white\") \n",
    "  \n",
    "    # Allocating the storage for the image and \n",
    "    # loading the pixel data. \n",
    "    pix = bitmap.load() \n",
    "     \n",
    "    # setting up the variables according to  \n",
    "    # the equation to  create the fractal \n",
    "    cX, cY = -0.7, 0.27015\n",
    "    moveX, moveY = 0.0, 0.0\n",
    "    maxIter = 255\n",
    "   \n",
    "    for x in range(w): \n",
    "        for y in range(h): \n",
    "            zx = 1.5*(x - w/2)/(0.5*zoom*w) + moveX \n",
    "            zy = 1.0*(y - h/2)/(0.5*zoom*h) + moveY \n",
    "            i = maxIter \n",
    "            while zx*zx + zy*zy < 4 and i > 1: \n",
    "                tmp = zx*zx - zy*zy + cX \n",
    "                zy,zx = 2.0*zx*zy + cY, tmp \n",
    "                i -= 1\n",
    "  \n",
    "            # convert byte to RGB (3 bytes), kinda  \n",
    "            # magic to get nice colors \n",
    "            pix[x,y] = (i << 21) + (i << 10) + i*8\n",
    "  \n",
    "    # to display the created fractal \n",
    "    bitmap.show() \n"
   ]
  },
  {
   "cell_type": "code",
   "execution_count": 8,
   "metadata": {},
   "outputs": [],
   "source": [
    "from OpenGL.GLU import *\n",
    "from OpenGL.GL import *\n",
    "import pygame\n",
    "from pygame.locals import *\n"
   ]
  },
  {
   "cell_type": "code",
   "execution_count": 13,
   "metadata": {},
   "outputs": [],
   "source": [
    "v=((1,-1,-1),(1,1,-1),(-1,1,-1),(-1,-1,-1),(1,-1,1),(1,1,1),\n",
    "  (-1,-1,1),(-1,1,1))\n",
    "edge=((0,1),(0,3),(0,4),(2,1),(2,3),(2,7),(6,3),(6,4),(6,7),\n",
    "     (5,1),(5,4),(5,7))"
   ]
  },
  {
   "cell_type": "code",
   "execution_count": 14,
   "metadata": {},
   "outputs": [],
   "source": [
    "def draw(edge,v):\n",
    "    glBegin(GL_LINES)\n",
    "    for e in edge:\n",
    "        for vi in v:\n",
    "            glVertex3fv(v[vi])\n",
    "    glEnd()"
   ]
  },
  {
   "cell_type": "code",
   "execution_count": 15,
   "metadata": {},
   "outputs": [
    {
     "ename": "TypeError",
     "evalue": "tuple indices must be integers or slices, not tuple",
     "output_type": "error",
     "traceback": [
      "\u001b[0;31m---------------------------------------------------------------------------\u001b[0m",
      "\u001b[0;31mTypeError\u001b[0m                                 Traceback (most recent call last)",
      "\u001b[0;32m<ipython-input-15-1f3cc411c0d4>\u001b[0m in \u001b[0;36m<module>\u001b[0;34m\u001b[0m\n\u001b[0;32m----> 1\u001b[0;31m \u001b[0mdraw\u001b[0m\u001b[0;34m(\u001b[0m\u001b[0medge\u001b[0m\u001b[0;34m,\u001b[0m\u001b[0mv\u001b[0m\u001b[0;34m)\u001b[0m\u001b[0;34m\u001b[0m\u001b[0;34m\u001b[0m\u001b[0m\n\u001b[0m",
      "\u001b[0;32m<ipython-input-14-a1a23fed11de>\u001b[0m in \u001b[0;36mdraw\u001b[0;34m(edge, v)\u001b[0m\n\u001b[1;32m      3\u001b[0m     \u001b[0;32mfor\u001b[0m \u001b[0me\u001b[0m \u001b[0;32min\u001b[0m \u001b[0medge\u001b[0m\u001b[0;34m:\u001b[0m\u001b[0;34m\u001b[0m\u001b[0;34m\u001b[0m\u001b[0m\n\u001b[1;32m      4\u001b[0m         \u001b[0;32mfor\u001b[0m \u001b[0mvi\u001b[0m \u001b[0;32min\u001b[0m \u001b[0mv\u001b[0m\u001b[0;34m:\u001b[0m\u001b[0;34m\u001b[0m\u001b[0;34m\u001b[0m\u001b[0m\n\u001b[0;32m----> 5\u001b[0;31m             \u001b[0mglVertex3fv\u001b[0m\u001b[0;34m(\u001b[0m\u001b[0mv\u001b[0m\u001b[0;34m[\u001b[0m\u001b[0mvi\u001b[0m\u001b[0;34m]\u001b[0m\u001b[0;34m)\u001b[0m\u001b[0;34m\u001b[0m\u001b[0;34m\u001b[0m\u001b[0m\n\u001b[0m\u001b[1;32m      6\u001b[0m     \u001b[0mglEnd\u001b[0m\u001b[0;34m(\u001b[0m\u001b[0;34m)\u001b[0m\u001b[0;34m\u001b[0m\u001b[0;34m\u001b[0m\u001b[0m\n",
      "\u001b[0;31mTypeError\u001b[0m: tuple indices must be integers or slices, not tuple"
     ]
    }
   ],
   "source": [
    "draw(edge,v)"
   ]
  },
  {
   "cell_type": "code",
   "execution_count": null,
   "metadata": {},
   "outputs": [],
   "source": []
  }
 ],
 "metadata": {
  "kernelspec": {
   "display_name": "Python 3",
   "language": "python",
   "name": "python3"
  },
  "language_info": {
   "codemirror_mode": {
    "name": "ipython",
    "version": 3
   },
   "file_extension": ".py",
   "mimetype": "text/x-python",
   "name": "python",
   "nbconvert_exporter": "python",
   "pygments_lexer": "ipython3",
   "version": "3.7.3"
  }
 },
 "nbformat": 4,
 "nbformat_minor": 2
}
